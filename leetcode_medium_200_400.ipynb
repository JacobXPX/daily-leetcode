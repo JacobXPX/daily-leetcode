{
 "cells": [
  {
   "cell_type": "markdown",
   "metadata": {},
   "source": [
    "## Medium 200-400\n",
    "\n",
    "Notes:\n",
    "not easy questions:\n",
    "\n",
    "No. Q | topics\n",
    "------|-------\n"
   ]
  },
  {
   "cell_type": "code",
   "execution_count": 1,
   "metadata": {},
   "outputs": [],
   "source": [
    "from typing import List"
   ]
  },
  {
   "cell_type": "markdown",
   "metadata": {},
   "source": [
    "#### 201. Bitwise AND of Numbers Range\n",
    "Given a range [m, n] where 0 <= m <= n <= 2147483647, return the bitwise AND of all numbers in this range, inclusive.\n",
    "```\n",
    "Example 1:\n",
    "Input: [5,7]\n",
    "Output: 4\n",
    "```"
   ]
  },
  {
   "cell_type": "code",
   "execution_count": null,
   "metadata": {},
   "outputs": [],
   "source": [
    "# Runtime: 68 ms, faster than 20.92% of Python3 online submissions for Bitwise AND of Numbers Range.\n",
    "# Memory Usage: 12.7 MB, less than 100.00% of Python3 online submissions for Bitwise AND of Numbers Range.\n",
    "class Solution:\n",
    "    def rangeBitwiseAnd(self, m: int, n: int) -> int:\n",
    "        ans = m\n",
    "        add_on = 1\n",
    "        while m + add_on <= n:\n",
    "            ans &= m + add_on\n",
    "            add_on *= 2\n",
    "        return ans & n"
   ]
  },
  {
   "cell_type": "markdown",
   "metadata": {},
   "source": [
    "#### 207. Course Schedule\n",
    "There are a total of n courses you have to take, labeled from 0 to n-1.\n",
    "\n",
    "Some courses may have prerequisites, for example to take course 0 you have to first take course 1, which is expressed as a pair: [0,1]\n",
    "\n",
    "Given the total number of courses and a list of prerequisite pairs, is it possible for you to finish all courses?\n",
    "\n",
    "```\n",
    "Example 2:\n",
    "Input: 2, [[1,0],[0,1]]\n",
    "Output: false\n",
    "Explanation: There are a total of 2 courses to take. \n",
    "             To take course 1 you should have finished course 0, and to take course 0 you should\n",
    "             also have finished course 1. So it is impossible.\n",
    "Note:\n",
    "    The input prerequisites is a graph represented by a list of edges, not adjacency matrices. Read more about how a graph is represented.\n",
    "    You may assume that there are no duplicate edges in the input prerequisites.\n",
    "```"
   ]
  },
  {
   "cell_type": "code",
   "execution_count": null,
   "metadata": {},
   "outputs": [],
   "source": [
    "# Runtime: 1060 ms, faster than 5.08% of Python3 online submissions for Course Schedule.\n",
    "# Memory Usage: 13.9 MB, less than 97.96% of Python3 online submissions for Course Schedule.\n",
    "class Solution:\n",
    "    def canFinish(self, numCourses: int, prerequisites: List[List[int]]) -> bool:\n",
    "        vertices = set([v for sublist in prerequisites for v in sublist])\n",
    "        graph = {v: [e[1] for e in prerequisites if e[0]==v] for v in vertices}\n",
    "        for v in vertices:\n",
    "            queue = graph[v]\n",
    "            visited = set()\n",
    "            while queue:\n",
    "                cur = queue.pop(0)\n",
    "                visited.add(cur)\n",
    "                if cur == v:\n",
    "                    return False\n",
    "                else:\n",
    "                    for n in graph[cur]:\n",
    "                        if n not in visited:\n",
    "                            queue.append(n)\n",
    "        return True"
   ]
  },
  {
   "cell_type": "markdown",
   "metadata": {},
   "source": [
    "#### 208. Implement Trie (Prefix Tree)\n",
    "Implement a trie with insert, search, and startsWith methods.\n",
    "```\n",
    "Example:\n",
    "Trie trie = new Trie();\n",
    "trie.insert(\"apple\");\n",
    "trie.search(\"apple\");   // returns true\n",
    "trie.search(\"app\");     // returns false\n",
    "trie.startsWith(\"app\"); // returns true\n",
    "trie.insert(\"app\");   \n",
    "trie.search(\"app\");     // returns true\n",
    "Note:\n",
    "    You may assume that all inputs are consist of lowercase letters a-z.\n",
    "    All inputs are guaranteed to be non-empty strings.\n",
    "```"
   ]
  },
  {
   "cell_type": "code",
   "execution_count": null,
   "metadata": {},
   "outputs": [],
   "source": [
    "# Runtime: 1916 ms, faster than 5.06% of Python3 online submissions for Implement Trie (Prefix Tree).\n",
    "# Memory Usage: 19 MB, less than 100.00% of Python3 online submissions for Implement Trie (Prefix Tree).\n",
    "class Trie:\n",
    "\n",
    "    def __init__(self):\n",
    "        \"\"\"\n",
    "        Initialize your data structure here.\n",
    "        \"\"\"\n",
    "        self.stack = []\n",
    "        \n",
    "\n",
    "    def insert(self, word: str) -> None:\n",
    "        \"\"\"\n",
    "        Inserts a word into the trie.\n",
    "        \"\"\"\n",
    "        self.stack.append(word)\n",
    "        \n",
    "\n",
    "    def search(self, word: str) -> bool:\n",
    "        \"\"\"\n",
    "        Returns if the word is in the trie.\n",
    "        \"\"\"\n",
    "        return word in self.stack\n",
    "        \n",
    "\n",
    "    def startsWith(self, prefix: str) -> bool:\n",
    "        \"\"\"\n",
    "        Returns if there is any word in the trie that starts with the given prefix.\n",
    "        \"\"\"\n",
    "        return any([w.startswith(prefix) for w in self.stack])\n",
    "        \n",
    "\n",
    "\n",
    "# Your Trie object will be instantiated and called as such:\n",
    "# obj = Trie()\n",
    "# obj.insert(word)\n",
    "# param_2 = obj.search(word)\n",
    "# param_3 = obj.startsWith(prefix)"
   ]
  },
  {
   "cell_type": "markdown",
   "metadata": {},
   "source": [
    "#### 209. Minimum Size Subarray Sum\n",
    "Given an array of n positive integers and a positive integer s, find the minimal length of a contiguous subarray of which the sum ≥ s. If there isn't one, return 0 instead.\n",
    "```\n",
    "Example: \n",
    "Input: s = 7, nums = [2,3,1,2,4,3]\n",
    "Output: 2\n",
    "Explanation: the subarray [4,3] has the minimal length under the problem constraint.\n",
    "Follow up:\n",
    "If you have figured out the O(n) solution, try coding another solution of which the time complexity is O(n log n). \n",
    "```"
   ]
  },
  {
   "cell_type": "code",
   "execution_count": null,
   "metadata": {},
   "outputs": [],
   "source": [
    "# Runtime: 2768 ms, faster than 5.40% of Python3 online submissions for Minimum Size Subarray Sum.\n",
    "# Memory Usage: 14.9 MB, less than 7.69% of Python3 online submissions for Minimum Size Subarray Sum.\n",
    "class Solution:\n",
    "    def minSubArrayLen(self, s: int, nums: List[int]) -> int:\n",
    "        sub = []\n",
    "        minl = float('Inf')\n",
    "        while nums or sum(sub) >= s:\n",
    "            if sum(sub) < s:\n",
    "                sub.append(nums.pop(0))\n",
    "            else:\n",
    "                minl = min(minl, len(sub))\n",
    "                sub.pop(0)\n",
    "        return minl if minl != float('Inf') else 0"
   ]
  }
 ],
 "metadata": {
  "kernelspec": {
   "display_name": "Python 3",
   "language": "python",
   "name": "python3"
  },
  "language_info": {
   "codemirror_mode": {
    "name": "ipython",
    "version": 3
   },
   "file_extension": ".py",
   "mimetype": "text/x-python",
   "name": "python",
   "nbconvert_exporter": "python",
   "pygments_lexer": "ipython3",
   "version": "3.6.4"
  }
 },
 "nbformat": 4,
 "nbformat_minor": 2
}
