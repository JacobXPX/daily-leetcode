{
 "cells": [
  {
   "cell_type": "code",
   "execution_count": 1,
   "metadata": {},
   "outputs": [],
   "source": [
    "from typing import List"
   ]
  },
  {
   "cell_type": "markdown",
   "metadata": {},
   "source": [
    "#### 2. Add Two Numbers\n",
    "\n",
    "You are given two non-empty linked lists representing two non-negative integers. The digits are stored in reverse order and each of their nodes contain a single digit. Add the two numbers and return it as a linked list.\n",
    "\n",
    "You may assume the two numbers do not contain any leading zero, except the number 0 itself.\n",
    "\n",
    "Example:\n",
    "```\n",
    "Input: (2 -> 4 -> 3) + (5 -> 6 -> 4)\n",
    "Output: 7 -> 0 -> 8\n",
    "Explanation: 342 + 465 = 807.\n",
    "```"
   ]
  },
  {
   "cell_type": "code",
   "execution_count": 2,
   "metadata": {},
   "outputs": [],
   "source": [
    "# Definition for singly-linked list.\n",
    "# Runtime: 60 ms, faster than 99.35% of Python3 online submissions for Add Two Numbers.\n",
    "# Memory Usage: 12.7 MB, less than 100.00% of Python3 online submissions for Add Two Numbers.\n",
    "class ListNode:\n",
    "    def __init__(self, x):\n",
    "        self.val = x\n",
    "        self.next = None\n",
    "\n",
    "class Solution:\n",
    "    def addTwoNumbers(self, l1: ListNode, l2: ListNode) -> ListNode:\n",
    "        head_a, head_b = l1, l2\n",
    "        len_a, len_b = 1,1\n",
    "        while head_a.next:\n",
    "            len_a += 1\n",
    "            head_a = head_a.next\n",
    "        while head_b.next:\n",
    "            len_b += 1\n",
    "            head_b = head_b.next\n",
    "        start_l, start_s =(l1, l2) if len_a > len_b else (l2, l1)\n",
    "        len_l, len_s = (len_a, len_b) if len_a > len_b else (len_b, len_a)\n",
    "\n",
    "        ans = (start_l.val + start_s.val)%10\n",
    "        bump = 1 if (start_l.val + start_s.val) >= 10 else 0\n",
    "        ans_listnode = ListNode(ans)\n",
    "        temp = ans_listnode\n",
    "        for i in range(1,len_s):\n",
    "            start_l, start_s = start_l.next, start_s.next\n",
    "            val = start_l.val + start_s.val + bump\n",
    "            ans = val%10\n",
    "            bump = 1 if val >= 10 else 0\n",
    "            node = ListNode(ans)\n",
    "            temp.next = node\n",
    "            temp = node\n",
    "        for i in range(len_s,len_l):\n",
    "            start_l = start_l.next\n",
    "            val = start_l.val + bump\n",
    "            ans = val%10\n",
    "            bump = 1 if val >= 10 else 0\n",
    "            node = ListNode(ans)\n",
    "            temp.next = node\n",
    "            temp = node\n",
    "        if bump:\n",
    "            temp.next = ListNode(1)\n",
    "        return ans_listnode"
   ]
  },
  {
   "cell_type": "markdown",
   "metadata": {},
   "source": [
    "#### 445. Add Two Numbers II\n",
    "\n",
    "You are given two non-empty linked lists representing two non-negative integers. The most significant digit comes first and each of their nodes contain a single digit. Add the two numbers and return it as a linked list.\n",
    "\n",
    "You may assume the two numbers do not contain any leading zero, except the number 0 itself.\n",
    "\n",
    "Follow up:\n",
    "What if you cannot modify the input lists? In other words, reversing the lists is not allowed.\n",
    "\n",
    "Example:\n",
    "```\n",
    "Input: (7 -> 2 -> 4 -> 3) + (5 -> 6 -> 4)\n",
    "Output: 7 -> 8 -> 0 -> 7\n",
    "```"
   ]
  },
  {
   "cell_type": "code",
   "execution_count": 3,
   "metadata": {},
   "outputs": [],
   "source": [
    "# Definition for singly-linked list.\n",
    "# Runtime: 72 ms, faster than 95.32% of Python3 online submissions for Add Two Numbers II.\n",
    "# Memory Usage: 12.9 MB, less than 100.00% of Python3 online submissions for Add Two Numbers II.\n",
    "class ListNode:\n",
    "    def __init__(self, x):\n",
    "        self.val = x\n",
    "        self.next = None\n",
    "\n",
    "class Solution:\n",
    "    def addTwoNumbers(self, l1: ListNode, l2: ListNode) -> ListNode:\n",
    "        head_a, head_b = l1, l2\n",
    "        len_a, len_b = 1,1\n",
    "        while head_a.next:\n",
    "            len_a += 1\n",
    "            head_a = head_a.next\n",
    "        while head_b.next:\n",
    "            len_b += 1\n",
    "            head_b = head_b.next\n",
    "        start_l, start_s =(l1, l2) if len_a > len_b else (l2, l1)\n",
    "        len_l, len_s = (len_a, len_b) if len_a > len_b else (len_b, len_a)\n",
    "        ans = 0\n",
    "\n",
    "        for i in range(len_l):\n",
    "            ans*=10\n",
    "            ans += start_l.val\n",
    "            start_l = start_l.next\n",
    "            if len_l - i <= len_s:\n",
    "                ans += start_s.val\n",
    "                start_s = start_s.next\n",
    "        ans_listnode = ListNode(0) if ans == 0 else ListNode(ans%10)\n",
    "        ans = ans//10\n",
    "        while ans > 0:\n",
    "            node = ListNode(ans%10)\n",
    "            ans = ans//10\n",
    "            node.next = ans_listnode\n",
    "            ans_listnode = node\n",
    "        return ans_listnode"
   ]
  },
  {
   "cell_type": "code",
   "execution_count": null,
   "metadata": {},
   "outputs": [],
   "source": []
  }
 ],
 "metadata": {
  "kernelspec": {
   "display_name": "Python 3",
   "language": "python",
   "name": "python3"
  },
  "language_info": {
   "codemirror_mode": {
    "name": "ipython",
    "version": 3
   },
   "file_extension": ".py",
   "mimetype": "text/x-python",
   "name": "python",
   "nbconvert_exporter": "python",
   "pygments_lexer": "ipython3",
   "version": "3.6.4"
  }
 },
 "nbformat": 4,
 "nbformat_minor": 2
}
