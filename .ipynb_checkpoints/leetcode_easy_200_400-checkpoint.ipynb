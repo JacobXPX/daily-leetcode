{
 "cells": [
  {
   "cell_type": "code",
   "execution_count": null,
   "metadata": {},
   "outputs": [],
   "source": [
    "from typing import List"
   ]
  },
  {
   "cell_type": "markdown",
   "metadata": {},
   "source": [
    "#### 202. Happy Number\n",
    "Write an algorithm to determine if a number is \"happy\".\n",
    "\n",
    "A happy number is a number defined by the following process: Starting with any positive integer, replace the number by the sum of the squares of its digits, and repeat the process until the number equals 1 (where it will stay), or it loops endlessly in a cycle which does not include 1. Those numbers for which this process ends in 1 are happy numbers.\n",
    "```\n",
    "Example: \n",
    "Input: 19\n",
    "Output: true\n",
    "Explanation: \n",
    "12 + 92 = 82\n",
    "82 + 22 = 68\n",
    "62 + 82 = 100\n",
    "12 + 02 + 02 = 1\n",
    "```"
   ]
  },
  {
   "cell_type": "code",
   "execution_count": null,
   "metadata": {},
   "outputs": [],
   "source": [
    "class Solution:\n",
    "    def isHappy(self, n: int) -> bool:\n",
    "        if not n:\n",
    "            return False\n",
    "        path = []\n",
    "        while n != 1:\n",
    "            sums = 0\n",
    "            while n > 0:\n",
    "                sums += (n%10)**2\n",
    "                n = n//10\n",
    "            if sums not in path:\n",
    "                path.append(sums)\n",
    "                n = sums\n",
    "            else:\n",
    "                break\n",
    "        return n == 1"
   ]
  },
  {
   "cell_type": "markdown",
   "metadata": {},
   "source": [
    "#### 203. Remove Linked List Elements\n",
    "Remove all elements from a linked list of integers that have value val.\n",
    "```\n",
    "Example:\n",
    "Input:  1->2->6->3->4->5->6, val = 6\n",
    "Output: 1->2->3->4->5\n",
    "```"
   ]
  },
  {
   "cell_type": "code",
   "execution_count": null,
   "metadata": {},
   "outputs": [],
   "source": [
    "# Definition for singly-linked list.\n",
    "class ListNode:\n",
    "    def __init__(self, x):\n",
    "        self.val = x\n",
    "        self.next = None\n",
    "\n",
    "class Solution:\n",
    "    def removeElements(self, head: ListNode, val: int) -> ListNode:\n",
    "        if not head:\n",
    "            return head\n",
    "        res = ListNode(0)\n",
    "        tmp = res\n",
    "        while head:\n",
    "            if head.val != val:\n",
    "                tmp.next = head\n",
    "                tmp = tmp.next\n",
    "            head = head.next\n",
    "        tmp.next = None\n",
    "        return res.next"
   ]
  },
  {
   "cell_type": "markdown",
   "metadata": {},
   "source": [
    "#### 204. Count Primes\n",
    "Count the number of prime numbers less than a non-negative number, n.\n",
    "```\n",
    "Example:\n",
    "Input: 10\n",
    "Output: 4\n",
    "Explanation: There are 4 prime numbers less than 10, they are 2, 3, 5, 7.\n",
    "```"
   ]
  },
  {
   "cell_type": "code",
   "execution_count": null,
   "metadata": {},
   "outputs": [],
   "source": [
    "class Solution:\n",
    "    def countPrimes(self, n: int) -> int:\n",
    "        if n <= 2:\n",
    "            return 0\n",
    "        res = [True] * n\n",
    "        res[0] = res[1] = False\n",
    "        for i in range(2, n):\n",
    "            if res[i]:\n",
    "                for j in range(i, (n-1)//i+1):\n",
    "                    res[i*j] = False\n",
    "        return sum(res)"
   ]
  },
  {
   "cell_type": "markdown",
   "metadata": {},
   "source": [
    "#### 205. Isomorphic Strings\n",
    "Given two strings s and t, determine if they are isomorphic.\n",
    "\n",
    "Two strings are isomorphic if the characters in s can be replaced to get t.\n",
    "\n",
    "All occurrences of a character must be replaced with another character while preserving the order of characters. No two characters may map to the same character but a character may map to itself.\n",
    "```\n",
    "Example 1:\n",
    "Input: s = \"egg\", t = \"add\"\n",
    "Output: true\n",
    "```"
   ]
  },
  {
   "cell_type": "code",
   "execution_count": null,
   "metadata": {},
   "outputs": [],
   "source": [
    "class Solution:\n",
    "    def isIsomorphic(self, s: str, t: str) -> bool:\n",
    "        if len(s) != len(t):\n",
    "            return False\n",
    "        pair = {}\n",
    "        for i in range(len(s)):\n",
    "            if s[i] in pair:\n",
    "                if pair[s[i]] != t[i]:\n",
    "                    return False\n",
    "            else:\n",
    "                if t[i] in pair.values():\n",
    "                    return False\n",
    "                pair[s[i]] = t[i]\n",
    "        return True"
   ]
  },
  {
   "cell_type": "markdown",
   "metadata": {},
   "source": [
    "#### 206. Reverse Linked List\n",
    "Reverse a singly linked list.\n",
    "```\n",
    "Example:\n",
    "Input: 1->2->3->4->5->NULL\n",
    "Output: 5->4->3->2->1->NULL\n",
    "Follow up:\n",
    "A linked list can be reversed either iteratively or recursively. Could you implement both?\n",
    "```"
   ]
  },
  {
   "cell_type": "code",
   "execution_count": null,
   "metadata": {},
   "outputs": [],
   "source": [
    "# Definition for singly-linked list.\n",
    "class ListNode:\n",
    "    def __init__(self, x):\n",
    "        self.val = x\n",
    "        self.next = None\n",
    "\n",
    "class Solution:\n",
    "    def reverseList(self, head: ListNode) -> ListNode:\n",
    "        pre = None\n",
    "        while head:\n",
    "            cur = head\n",
    "            head = head.next\n",
    "            cur.next = pre\n",
    "            pre = cur\n",
    "        return pre"
   ]
  },
  {
   "cell_type": "markdown",
   "metadata": {},
   "source": [
    "#### 217. Contains Duplicate\n",
    "Given an array of integers, find if the array contains any duplicates.\n",
    "\n",
    "Your function should return true if any value appears at least twice in the array, and it should return false if every element is distinct.\n",
    "```\n",
    "Example 3:\n",
    "Input: [1,1,1,3,3,4,3,2,4,2]\n",
    "Output: true\n",
    "```"
   ]
  },
  {
   "cell_type": "code",
   "execution_count": 5,
   "metadata": {},
   "outputs": [],
   "source": [
    "class Solution:\n",
    "    def containsDuplicate(self, nums: List[int]) -> bool:\n",
    "        return len(nums) != len(set(nums))"
   ]
  },
  {
   "cell_type": "markdown",
   "metadata": {},
   "source": [
    "#### 219. Contains Duplicate II\n",
    "Given an array of integers and an integer k, find out whether there are two distinct indices i and j in the array such that nums[i] = nums[j] and the absolute difference between i and j is at most k.\n",
    "```\n",
    "Example 3:\n",
    "Input: nums = [1,2,3,1,2,3], k = 2\n",
    "Output: false\n",
    "```"
   ]
  },
  {
   "cell_type": "code",
   "execution_count": null,
   "metadata": {},
   "outputs": [],
   "source": [
    "class Solution:\n",
    "    def containsNearbyDuplicate(self, nums: List[int], k: int) -> bool:\n",
    "        window = set()\n",
    "        for i in range(0, len(nums)):\n",
    "            if len(window) >= k+1:\n",
    "                window.remove(nums[i-k-1])\n",
    "            if nums[i] in window:\n",
    "                return True\n",
    "            window.add(nums[i])\n",
    "        return False"
   ]
  },
  {
   "cell_type": "markdown",
   "metadata": {},
   "source": [
    "#### 225. Implement Stack using Queues\n",
    "Implement the following operations of a stack using queues.\n",
    "\n",
    "    push(x) -- Push element x onto stack.\n",
    "    pop() -- Removes the element on top of the stack.\n",
    "    top() -- Get the top element.\n",
    "    empty() -- Return whether the stack is empty.\n",
    "```\n",
    "Example:\n",
    "MyStack stack = new MyStack();\n",
    "stack.push(1);\n",
    "stack.push(2);  \n",
    "stack.top();   // returns 2\n",
    "stack.pop();   // returns 2\n",
    "stack.empty(); // returns false\n",
    "```"
   ]
  },
  {
   "cell_type": "code",
   "execution_count": null,
   "metadata": {},
   "outputs": [],
   "source": [
    "class MyStack:\n",
    "    def __init__(self):\n",
    "        \"\"\"\n",
    "        Initialize your data structure here.\n",
    "        \"\"\"\n",
    "        self.lst = []\n",
    "    def push(self, x: int) -> None:\n",
    "        \"\"\"\n",
    "        Push element x onto stack.\n",
    "        \"\"\"\n",
    "        self.lst.append(x)\n",
    "    def pop(self) -> int:\n",
    "        \"\"\"\n",
    "        Removes the element on top of the stack and returns that element.\n",
    "        \"\"\"\n",
    "        return self.lst.pop()\n",
    "    def top(self) -> int:\n",
    "        \"\"\"\n",
    "        Get the top element.\n",
    "        \"\"\"\n",
    "        return self.lst[-1]\n",
    "    def empty(self) -> bool:\n",
    "        \"\"\"\n",
    "        Returns whether the stack is empty.\n",
    "        \"\"\"\n",
    "        return len(self.lst) == 0\n",
    "# Your MyStack object will be instantiated and called as such:\n",
    "# obj = MyStack()\n",
    "# obj.push(x)\n",
    "# param_2 = obj.pop()\n",
    "# param_3 = obj.top()\n",
    "# param_4 = obj.empty()"
   ]
  },
  {
   "cell_type": "markdown",
   "metadata": {},
   "source": [
    "#### 226. Invert Binary Tree\n",
    "Invert a binary tree.\n",
    "```\n",
    "Example:\n",
    "Input:\n",
    "     4\n",
    "   /   \\\n",
    "  2     7\n",
    " / \\   / \\\n",
    "1   3 6   9\n",
    "Output:\n",
    "     4\n",
    "   /   \\\n",
    "  7     2\n",
    " / \\   / \\\n",
    "9   6 3   1\n",
    "Trivia:\n",
    "This problem was inspired by this original tweet by Max Howell:\n",
    "\n",
    "    Google: 90% of our engineers use the software you wrote (Homebrew), but you can’t invert a binary tree on a whiteboard so f*** off.\n",
    "```"
   ]
  },
  {
   "cell_type": "code",
   "execution_count": null,
   "metadata": {},
   "outputs": [],
   "source": [
    "# Definition for a binary tree node.\n",
    "class TreeNode:\n",
    "    def __init__(self, x):\n",
    "        self.val = x\n",
    "        self.left = None\n",
    "        self.right = None\n",
    "\n",
    "class Solution:\n",
    "    def invertTree(self, root: TreeNode) -> TreeNode:\n",
    "        if not root:\n",
    "            return root\n",
    "        stack = [root]\n",
    "        while stack:\n",
    "            node = stack.pop()\n",
    "            if node and (node.right or node.left):\n",
    "                stack.append(node.right)\n",
    "                stack.append(node.left)\n",
    "                tmp = node.right\n",
    "                node.right = node.left\n",
    "                node.left = tmp\n",
    "        return root"
   ]
  },
  {
   "cell_type": "markdown",
   "metadata": {},
   "source": [
    "#### 231. Power of Two\n",
    "Given an integer, write a function to determine if it is a power of two.\n",
    "```\n",
    "Example 3:\n",
    "Input: 218\n",
    "Output: false\n",
    "```"
   ]
  },
  {
   "cell_type": "code",
   "execution_count": 16,
   "metadata": {},
   "outputs": [],
   "source": [
    "class Solution:\n",
    "    def isPowerOfTwo(self, n: int) -> bool:\n",
    "        return n > 0 and not (n&(n-1))"
   ]
  },
  {
   "cell_type": "markdown",
   "metadata": {},
   "source": [
    "#### 232. Implement Queue using Stacks\n",
    "Implement the following operations of a queue using stacks.\n",
    "\n",
    "    push(x) -- Push element x to the back of queue.\n",
    "    pop() -- Removes the element from in front of queue.\n",
    "    peek() -- Get the front element.\n",
    "    empty() -- Return whether the queue is empty.\n",
    "```\n",
    "Example:\n",
    "MyQueue queue = new MyQueue();\n",
    "queue.push(1);\n",
    "queue.push(2);  \n",
    "queue.peek();  // returns 1\n",
    "queue.pop();   // returns 1\n",
    "queue.empty(); // returns false\n",
    "```"
   ]
  },
  {
   "cell_type": "code",
   "execution_count": null,
   "metadata": {},
   "outputs": [],
   "source": [
    "class MyQueue:\n",
    "    def __init__(self):\n",
    "        \"\"\"\n",
    "        Initialize your data structure here.\n",
    "        \"\"\"\n",
    "        self.lst = []\n",
    "    def push(self, x: int) -> None:\n",
    "        \"\"\"\n",
    "        Push element x to the back of queue.\n",
    "        \"\"\"\n",
    "        self.lst.append(x)\n",
    "    def pop(self) -> int:\n",
    "        \"\"\"\n",
    "        Removes the element from in front of queue and returns that element.\n",
    "        \"\"\"\n",
    "        return self.lst.pop(0)\n",
    "    def peek(self) -> int:\n",
    "        \"\"\"\n",
    "        Get the front element.\n",
    "        \"\"\"\n",
    "        return self.lst[0]\n",
    "    def empty(self) -> bool:\n",
    "        \"\"\"\n",
    "        Returns whether the queue is empty.\n",
    "        \"\"\"\n",
    "        return len(self.lst)==0\n",
    "# Your MyQueue object will be instantiated and called as such:\n",
    "# obj = MyQueue()\n",
    "# obj.push(x)\n",
    "# param_2 = obj.pop()\n",
    "# param_3 = obj.peek()\n",
    "# param_4 = obj.empty()"
   ]
  },
  {
   "cell_type": "markdown",
   "metadata": {},
   "source": [
    "#### 234. Palindrome Linked List\n",
    "Given a singly linked list, determine if it is a palindrome.\n",
    "```\n",
    "Example 2:\n",
    "Input: 1->2->2->1\n",
    "Output: true\n",
    "```"
   ]
  },
  {
   "cell_type": "code",
   "execution_count": null,
   "metadata": {},
   "outputs": [],
   "source": [
    "# Definition for singly-linked list.\n",
    "class ListNode:\n",
    "    def __init__(self, x):\n",
    "        self.val = x\n",
    "        self.next = None\n",
    "\n",
    "class Solution:\n",
    "    def isPalindrome(self, head: ListNode) -> bool:\n",
    "        if not head:\n",
    "            return True\n",
    "        \n",
    "        slow = head\n",
    "        fast = head\n",
    "        prev = None\n",
    "        while fast and fast.next:\n",
    "            fast = fast.next.next\n",
    "            tmp = slow.next\n",
    "            slow.next = prev\n",
    "            prev = slow\n",
    "            slow = tmp\n",
    "        if fast:\n",
    "            slow = slow.next\n",
    "        while slow:\n",
    "            if slow.val != prev.val:\n",
    "                return False\n",
    "            slow = slow.next\n",
    "            prev = prev.next\n",
    "        return True"
   ]
  }
 ],
 "metadata": {
  "kernelspec": {
   "display_name": "Python 3",
   "language": "python",
   "name": "python3"
  },
  "language_info": {
   "codemirror_mode": {
    "name": "ipython",
    "version": 3
   },
   "file_extension": ".py",
   "mimetype": "text/x-python",
   "name": "python",
   "nbconvert_exporter": "python",
   "pygments_lexer": "ipython3",
   "version": "3.6.4"
  }
 },
 "nbformat": 4,
 "nbformat_minor": 2
}
