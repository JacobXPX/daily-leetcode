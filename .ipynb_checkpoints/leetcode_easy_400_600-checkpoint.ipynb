{
 "cells": [
  {
   "cell_type": "code",
   "execution_count": null,
   "metadata": {},
   "outputs": [],
   "source": [
    "from typing import List"
   ]
  },
  {
   "cell_type": "markdown",
   "metadata": {},
   "source": [
    "#### 401. Binary Watch\n",
    "A binary watch has 4 LEDs on the top which represent the hours (0-11), and the 6 LEDs on the bottom represent the minutes (0-59).\n",
    "Each LED represents a zero or one, with the least significant bit on the right.\n",
    "For example, the above binary watch reads \"3:25\".\n",
    "Given a non-negative integer n which represents the number of LEDs that are currently on, return all possible times the watch could represent.\n",
    "```\n",
    "Example:\n",
    "Input: n = 1\n",
    "Return: [\"1:00\", \"2:00\", \"4:00\", \"8:00\", \"0:01\", \"0:02\", \"0:04\", \"0:08\", \"0:16\", \"0:32\"]\n",
    "```\n",
    "Note:\n",
    "\n",
    "    The order of output does not matter.\n",
    "    The hour must not contain a leading zero, for example \"01:00\" is not valid, it should be \"1:00\".\n",
    "    The minute must be consist of two digits and may contain a leading zero, for example \"10:2\" is not valid, it should be \"10:02\"."
   ]
  },
  {
   "cell_type": "code",
   "execution_count": null,
   "metadata": {},
   "outputs": [],
   "source": [
    "class Solution:\n",
    "    def readBinaryWatch(self, num: int) -> List[str]:\n",
    "        hours = ['{:04b}'.format(x) for x in range(12)]\n",
    "        mins = ['{:06b}'.format(x) for x in range(60)]\n",
    "\n",
    "        #Possible times\n",
    "        times = [h+m for h in hours for m in mins if (h+m).count('1') == num]\n",
    "\n",
    "        #Decode binary times\n",
    "        return ['{:0d}:{:02d}'.format(int(t[0:4],2), int(t[4:10],2)) for t in times]"
   ]
  },
  {
   "cell_type": "markdown",
   "metadata": {},
   "source": [
    "#### 404. Sum of Left Leaves\n",
    "Find the sum of all left leaves in a given binary tree.\n",
    "```\n",
    "Example:\n",
    "    3\n",
    "   / \\\n",
    "  9  20\n",
    "    /  \\\n",
    "   15   7\n",
    "There are two left leaves in the binary tree, with values 9 and 15 respectively. Return 24.\n",
    "```"
   ]
  },
  {
   "cell_type": "code",
   "execution_count": null,
   "metadata": {},
   "outputs": [],
   "source": [
    "# Definition for a binary tree node.\n",
    "class TreeNode:\n",
    "    def __init__(self, x):\n",
    "        self.val = x\n",
    "        self.left = None\n",
    "        self.right = None\n",
    "\n",
    "class Solution:\n",
    "    def sumOfLeftLeaves(self, root: TreeNode) -> int:\n",
    "        if not root:\n",
    "            return 0\n",
    "        res = 0\n",
    "        queue = [(root, 0)]\n",
    "        while queue:\n",
    "            node, is_left = queue.pop(0)\n",
    "            if is_left and not node.left and not node.right:\n",
    "                res += node.val\n",
    "            else:\n",
    "                if node.left:\n",
    "                    queue.append((node.left, 1))\n",
    "                if node.right:\n",
    "                    queue.append((node.right, 0))\n",
    "        return res"
   ]
  }
 ],
 "metadata": {
  "kernelspec": {
   "display_name": "Python 3",
   "language": "python",
   "name": "python3"
  },
  "language_info": {
   "codemirror_mode": {
    "name": "ipython",
    "version": 3
   },
   "file_extension": ".py",
   "mimetype": "text/x-python",
   "name": "python",
   "nbconvert_exporter": "python",
   "pygments_lexer": "ipython3",
   "version": "3.6.4"
  }
 },
 "nbformat": 4,
 "nbformat_minor": 2
}
