{
 "cells": [
  {
   "cell_type": "markdown",
   "metadata": {},
   "source": [
    "## Medium 200-400\n",
    "\n",
    "Notes:\n",
    "not easy questions:\n",
    "\n",
    "No. Q | topics\n",
    "------|-------\n"
   ]
  },
  {
   "cell_type": "code",
   "execution_count": 1,
   "metadata": {},
   "outputs": [],
   "source": [
    "from typing import List"
   ]
  },
  {
   "cell_type": "markdown",
   "metadata": {},
   "source": [
    "#### 201. Bitwise AND of Numbers Range\n",
    "Given a range [m, n] where 0 <= m <= n <= 2147483647, return the bitwise AND of all numbers in this range, inclusive.\n",
    "```\n",
    "Example 1:\n",
    "Input: [5,7]\n",
    "Output: 4\n",
    "```"
   ]
  },
  {
   "cell_type": "code",
   "execution_count": null,
   "metadata": {},
   "outputs": [],
   "source": [
    "# Runtime: 68 ms, faster than 20.92% of Python3 online submissions for Bitwise AND of Numbers Range.\n",
    "# Memory Usage: 12.7 MB, less than 100.00% of Python3 online submissions for Bitwise AND of Numbers Range.\n",
    "class Solution:\n",
    "    def rangeBitwiseAnd(self, m: int, n: int) -> int:\n",
    "        ans = m\n",
    "        add_on = 1\n",
    "        while m + add_on <= n:\n",
    "            ans &= m + add_on\n",
    "            add_on *= 2\n",
    "        return ans & n"
   ]
  }
 ],
 "metadata": {
  "kernelspec": {
   "display_name": "Python 3",
   "language": "python",
   "name": "python3"
  },
  "language_info": {
   "codemirror_mode": {
    "name": "ipython",
    "version": 3
   },
   "file_extension": ".py",
   "mimetype": "text/x-python",
   "name": "python",
   "nbconvert_exporter": "python",
   "pygments_lexer": "ipython3",
   "version": "3.6.4"
  }
 },
 "nbformat": 4,
 "nbformat_minor": 2
}
